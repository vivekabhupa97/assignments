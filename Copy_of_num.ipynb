{
  "nbformat": 4,
  "nbformat_minor": 0,
  "metadata": {
    "kernelspec": {
      "display_name": "Python 3",
      "language": "python",
      "name": "python3"
    },
    "language_info": {
      "codemirror_mode": {
        "name": "ipython",
        "version": 3
      },
      "file_extension": ".py",
      "mimetype": "text/x-python",
      "name": "python",
      "nbconvert_exporter": "python",
      "pygments_lexer": "ipython3",
      "version": "3.7.3"
    },
    "colab": {
      "name": "Copy of num.ipynb",
      "provenance": [],
      "include_colab_link": true
    }
  },
  "cells": [
    {
      "cell_type": "markdown",
      "metadata": {
        "id": "view-in-github",
        "colab_type": "text"
      },
      "source": [
        "<a href=\"https://colab.research.google.com/github/vivekabhupa97/assignments/blob/main/Copy_of_num.ipynb\" target=\"_parent\"><img src=\"https://colab.research.google.com/assets/colab-badge.svg\" alt=\"Open In Colab\"/></a>"
      ]
    },
    {
      "cell_type": "code",
      "metadata": {
        "id": "h39pdvNM9tY2"
      },
      "source": [
        "num1= int(input(\"enter first num\"))\n",
        "num2= int(input(\"enter second num\"))\n",
        "\n",
        "rem = num1 % 2\n",
        "if(rem==0):\n",
        "    print(num1,\"even integer\")\n",
        "else:\n",
        "    print(num1,\"odd integer\")\n",
        "\n",
        "    print('viveka')\n"
      ],
      "execution_count": null,
      "outputs": []
    }
  ]
}